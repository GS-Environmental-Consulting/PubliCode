{
  "nbformat": 4,
  "nbformat_minor": 0,
  "metadata": {
    "colab": {
      "provenance": [],
      "authorship_tag": "ABX9TyPggEKu06j7bPPlu0sA5MXG",
      "include_colab_link": true
    },
    "kernelspec": {
      "name": "python3",
      "display_name": "Python 3"
    },
    "language_info": {
      "name": "python"
    }
  },
  "cells": [
    {
      "cell_type": "markdown",
      "metadata": {
        "id": "view-in-github",
        "colab_type": "text"
      },
      "source": [
        "<a href=\"https://colab.research.google.com/github/GS-Environmental-Consulting/PubliCode/blob/main/DataScienceEcosystem.ipynb\" target=\"_parent\"><img src=\"https://colab.research.google.com/assets/colab-badge.svg\" alt=\"Open In Colab\"/></a>"
      ]
    },
    {
      "cell_type": "markdown",
      "source": [
        "# Data Science Tools and Ecosystem"
      ],
      "metadata": {
        "id": "tr4riGN7l82a"
      }
    },
    {
      "cell_type": "markdown",
      "source": [
        "In this notebook, Data Science Tools and Ecosystem are summarized."
      ],
      "metadata": {
        "id": "FSChyQ8ammHX"
      }
    },
    {
      "cell_type": "markdown",
      "source": [],
      "metadata": {
        "id": "pMLeJEHuBnKn"
      }
    },
    {
      "cell_type": "markdown",
      "source": [
        "Some of the popular languages that Data Scientists use are: \n",
        "1.   R,\n",
        "2.   Python,\n",
        "3.   Scala,\n",
        "4.   SQL"
      ],
      "metadata": {
        "id": "kF50e2AHAcay"
      }
    },
    {
      "cell_type": "markdown",
      "source": [
        "Some of the commonly used libraries used by Data Scientists include:\n",
        "\n",
        "\n",
        "1.   pandas\n",
        "2.   scipy\n",
        "3.  scikitlearn\n"
      ],
      "metadata": {
        "id": "mm1XIAdZBggG"
      }
    },
    {
      "cell_type": "markdown",
      "source": [
        "\n",
        "| Data Science Tools\n",
        "|----------\n",
        "| JupyterLab |\n",
        "|RStudio|\n",
        "| Spyder| "
      ],
      "metadata": {
        "id": "0UiF8BquE9qb"
      }
    },
    {
      "cell_type": "markdown",
      "source": [
        "### Below are a few examples of evaluating arithmetic expressions in Python"
      ],
      "metadata": {
        "id": "aEBxAsCBGY2U"
      }
    },
    {
      "cell_type": "code",
      "source": [
        "#This a simple arithmetic expression to mutiply then add integers\n",
        "(3*4)+5"
      ],
      "metadata": {
        "colab": {
          "base_uri": "https://localhost:8080/"
        },
        "id": "S1XLClmCBf7y",
        "outputId": "77e79788-e564-4287-c8c6-0e3195e349f9"
      },
      "execution_count": 1,
      "outputs": [
        {
          "output_type": "execute_result",
          "data": {
            "text/plain": [
              "17"
            ]
          },
          "metadata": {},
          "execution_count": 1
        }
      ]
    },
    {
      "cell_type": "code",
      "execution_count": 2,
      "metadata": {
        "id": "lTMxK9PZlvt2",
        "colab": {
          "base_uri": "https://localhost:8080/"
        },
        "outputId": "85de9dd5-963f-42a1-d161-83e7e22ef7ba"
      },
      "outputs": [
        {
          "output_type": "execute_result",
          "data": {
            "text/plain": [
              "3.3333333333333335"
            ]
          },
          "metadata": {},
          "execution_count": 2
        }
      ],
      "source": [
        "#his will convert 200 minutes to hours by diving by 60\n",
        "total_minutes= 200\n",
        "min_in_hour= 60\n",
        "total_minutes/min_in_hour"
      ]
    },
    {
      "cell_type": "markdown",
      "source": [
        "**Objectives:**\n",
        "\n",
        "\n",
        "*   data science languges\n",
        "*   arithmetic expressions in Python\n",
        "*   Data Science Tools\n",
        "\n",
        "\n",
        "\n"
      ],
      "metadata": {
        "id": "x4M09a8xo4ar"
      }
    },
    {
      "cell_type": "markdown",
      "source": [
        "## Author\n",
        "Guy steenekamp"
      ],
      "metadata": {
        "id": "Z0KVp2fTp8QW"
      }
    },
    {
      "cell_type": "code",
      "source": [],
      "metadata": {
        "id": "Zcy8Ti7Vp5mO"
      },
      "execution_count": 2,
      "outputs": []
    }
  ]
}